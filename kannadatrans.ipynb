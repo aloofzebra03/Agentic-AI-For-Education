{
 "cells": [
  {
   "cell_type": "code",
   "execution_count": 1,
   "id": "4e198a4b",
   "metadata": {},
   "outputs": [],
   "source": [
    "from langdetect import detect\n",
    "from deep_translator import GoogleTranslator"
   ]
  },
  {
   "cell_type": "code",
   "execution_count": 5,
   "id": "fd50a010",
   "metadata": {},
   "outputs": [
    {
     "name": "stdout",
     "output_type": "stream",
     "text": [
      "Hello, how are you?  ನಮಸ್ಕಾರ! ಹೇಗಿದ್ದೀರಾ? ನೀವು ತರಗತಿ 7ರ ವಿದ್ಯಾರ್ಥಿ ಎಂದು ನನಗೆ ತಿಳಿದಿದೆ. ನಾವು ಇಂದು \n"
     ]
    }
   ],
   "source": [
    "msg = \"Hello, how are you?  ನಮಸ್ಕಾರ! ಹೇಗಿದ್ದೀರಾ? ನೀವು ತರಗತಿ 7ರ ವಿದ್ಯಾರ್ಥಿ ಎಂದು ನನಗೆ ತಿಳಿದಿದೆ. ನಾವು ಇಂದು \"\n",
    "if(detect(msg) == 'en'):\n",
    "    print(GoogleTranslator(source='en', target='kn').translate(msg))\n",
    "else:\n",
    "     print(msg)"
   ]
  },
  {
   "cell_type": "code",
   "execution_count": 6,
   "id": "3c0f9dbd",
   "metadata": {},
   "outputs": [
    {
     "data": {
      "text/plain": [
       "'ಹಲೋ, ಹೇಗಿದ್ದೀರಾ?  ನಮಸ್ಕಾರ! ಹೇಗಿದ್ದೀರಾ? ನೀವು 7 ರ ವಿದ್ಯಾರ್ಥಿ ಎಂದು ತಿಳಿದಿದೆ. ನಾವು'"
      ]
     },
     "execution_count": 6,
     "metadata": {},
     "output_type": "execute_result"
    }
   ],
   "source": [
    "(GoogleTranslator(source='en', target='kn').translate(msg))"
   ]
  },
  {
   "cell_type": "code",
   "execution_count": null,
   "id": "15e082ce",
   "metadata": {},
   "outputs": [],
   "source": []
  }
 ],
 "metadata": {
  "kernelspec": {
   "display_name": "langchain",
   "language": "python",
   "name": "python3"
  },
  "language_info": {
   "codemirror_mode": {
    "name": "ipython",
    "version": 3
   },
   "file_extension": ".py",
   "mimetype": "text/x-python",
   "name": "python",
   "nbconvert_exporter": "python",
   "pygments_lexer": "ipython3",
   "version": "3.12.11"
  }
 },
 "nbformat": 4,
 "nbformat_minor": 5
}
