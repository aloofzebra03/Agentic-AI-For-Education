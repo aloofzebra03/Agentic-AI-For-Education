{
 "cells": [
  {
   "cell_type": "code",
   "execution_count": 4,
   "id": "1e478f23",
   "metadata": {},
   "outputs": [],
   "source": [
    "import json\n",
    "json_file_path = \"NCERT Class 7.json\"\n",
    "with open(json_file_path, 'r', encoding='utf-8') as f:\n",
    "            data = json.load(f)"
   ]
  },
  {
   "cell_type": "code",
   "execution_count": 17,
   "id": "bfcb28c0",
   "metadata": {},
   "outputs": [
    {
     "name": "stdout",
     "output_type": "stream",
     "text": [
      "Measurement of Time\n"
     ]
    }
   ],
   "source": [
    "concept = \"Measurement of Time\"\n",
    "for concept_data in data[\"concepts\"]:\n",
    "         if concept_data['concept'].lower().strip() == concept.lower().strip():\n",
    "            print(concept)"
   ]
  },
  {
   "cell_type": "code",
   "execution_count": 14,
   "id": "ae98829a",
   "metadata": {},
   "outputs": [
    {
     "name": "stdout",
     "output_type": "stream",
     "text": [
      "Measurement of Time\n",
      "History of Timekeeping Devices\n",
      "Sundial\n",
      "Water Clock\n",
      "Hourglass\n",
      "Candle Clock\n",
      "Pendulum and its Time Period\n",
      "Speed\n",
      "Uniform Motion\n",
      "Non-uniform Motion\n",
      "SI Unit of Time\n"
     ]
    }
   ],
   "source": [
    "for i in data['concepts']:\n",
    "    print(i['concept'])\n"
   ]
  },
  {
   "cell_type": "code",
   "execution_count": null,
   "id": "a1f1798f",
   "metadata": {},
   "outputs": [],
   "source": []
  }
 ],
 "metadata": {
  "kernelspec": {
   "display_name": "langchain",
   "language": "python",
   "name": "python3"
  },
  "language_info": {
   "codemirror_mode": {
    "name": "ipython",
    "version": 3
   },
   "file_extension": ".py",
   "mimetype": "text/x-python",
   "name": "python",
   "nbconvert_exporter": "python",
   "pygments_lexer": "ipython3",
   "version": "3.12.11"
  }
 },
 "nbformat": 4,
 "nbformat_minor": 5
}
