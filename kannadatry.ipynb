{
 "cells": [
  {
   "cell_type": "code",
   "execution_count": 1,
   "id": "c1736ba9",
   "metadata": {},
   "outputs": [],
   "source": [
    "from langdetect import detect\n",
    "from googletrans import Translator"
   ]
  },
  {
   "cell_type": "code",
   "execution_count": null,
   "id": "17649b54",
   "metadata": {},
   "outputs": [
    {
     "name": "stdout",
     "output_type": "stream",
     "text": [
      "ನೀವು ಹೇಗಿದ್ದೀರಿ\n"
     ]
    }
   ],
   "source": []
  },
  {
   "cell_type": "code",
   "execution_count": 12,
   "id": "2ed746d5",
   "metadata": {},
   "outputs": [
    {
     "name": "stdout",
     "output_type": "stream",
     "text": [
      "ಇಂದು ನೀವು ಹೇಗಿದ್ದೀರಿ? ನನ್ನ ಹೆಸರು ಆರ್ಯನ್ ಮತ್ತು ಇಂದು ಲ್ಯಾಂಗ್‌ಗ್ರಾಫ್ ಬಳಸಿ ಏಜೆಂಟರನ್ನು ಹೇಗೆ ನಿರ್ಮಿಸುವುದು ಎಂದು ನಾನು ನಿಮಗೆ ಕಲಿಸುತ್ತೇನೆ?\n",
      "    ನೀವು ಸಿದ್ಧ ಮತ್ತು ಉತ್ಸುಕರಾಗಿದ್ದೀರಿ ಎಂದು ನಾನು ಭಾವಿಸುತ್ತೇನೆ.\n",
      "    ನೀವು ಸರಿಯಾದ ಹಾದಿಯಲ್ಲಿದ್ದೀರಿ! ನಾವು ಅನ್ವೇಷಿಸುವ ಪರಿಕಲ್ಪನೆಯು ** ಲೋಲಕ ಮತ್ತು ಅದರ ಸಮಯದ ಅವಧಿ **. ಲೋಲಕದ ಉದ್ದ, ಸ್ವಿಂಗ್‌ನಂತೆ, ಒಂದು ಪೂರ್ಣ ಸ್ವಿಂಗ್ ಅನ್ನು ಪೂರ್ಣಗೊಳಿಸಲು ಎಷ್ಟು ಸಮಯ ತೆಗೆದುಕೊಳ್ಳುತ್ತದೆ ಎಂಬುದರ ಮೇಲೆ ನೇರವಾಗಿ ಪರಿಣಾಮ ಬೀರುತ್ತದೆ (ಅದರ ಸಮಯದ ಅವಧಿ). ಈಗ ನಾವು ಅದನ್ನು ಗುರುತಿಸಿದ್ದೇವೆ, ಲೋಲಕದ ಸಮಯದ ಅವಧಿಯನ್ನು ಉದ್ದ ಮತ್ತು ಇತರ ಅಂಶಗಳು ಹೇಗೆ ಪ್ರಭಾವಿಸುತ್ತವೆ ಎಂಬುದರ ಕುರಿತು ಇನ್ನಷ್ಟು ತಿಳಿದುಕೊಳ್ಳೋಣ!\n",
      "    ಹೋಗೋಣ.\n"
     ]
    }
   ],
   "source": [
    "msg = '''ಎಲ್ಲಾ ಮಾನವರು ಸ್ವತಂತ್ರರಾಗಿ ಜನಿಸುತ್ತಾರೆ ಮತ್ತು ಘನತೆ ಮತ್ತು ಹಕ್ಕುಗಳಲ್ಲಿ ಸಮಾನರು. ಅವರು ವಿವೇಚನೆ ಮತ್ತು ಆತ್ಮಸಾಕ್ಷಿಯನ್ನು ಹೊಂದಿದ್ದಾರೆ ಮತ್ತು ಸಹೋದರತ್ವದ ಮನೋಭಾವದಿಂದ ಪರಸ್ಪರ ವರ್ತಿಸಬೇಕು.\n",
    "(ಮಾನವ ಹಕ್ಕುಗಳ ಸಾರ್ವತ್ರಿಕ ಘೋಷಣೆಯ ವಿಧಿ 1)\n",
    "\n",
    "ಮಾದರಿ ಪಠ್ಯವನ್ನು ಒದಗಿಸಿದ್ದಕ್ಕಾಗಿ ಅರವಿಂದ ಅಯ್ಯಂ'''\n",
    "msg = '''How are you today?My name is Aryan and I will be teaching you how to build agents using langgraph today?\n",
    "    I hope you are ready and excited.\n",
    "    You're on the right track! The concept we're exploring is the **Pendulum and its Time Period**. The length of a pendulum, like a swing, directly affects how long it takes to complete one full swing (its time period). Now that we've identified it, let's learn more about how the length and other factors influence the time period of a pendulum!\n",
    "    Lets go.\n",
    "'''\n",
    "from deep_translator import GoogleTranslator\n",
    "if(detect(msg)=='en'):\n",
    "    print(GoogleTranslator(source='en', target='kn').translate(msg))\n",
    "else:\n",
    "    print(msg)\n"
   ]
  },
  {
   "cell_type": "code",
   "execution_count": null,
   "metadata": {},
   "outputs": [],
   "source": []
  }
 ],
 "metadata": {
  "kernelspec": {
   "display_name": "langchain",
   "language": "python",
   "name": "python3"
  },
  "language_info": {
   "codemirror_mode": {
    "name": "ipython",
    "version": 3
   },
   "file_extension": ".py",
   "mimetype": "text/x-python",
   "name": "python",
   "nbconvert_exporter": "python",
   "pygments_lexer": "ipython3",
   "version": "3.12.11"
  }
 },
 "nbformat": 4,
 "nbformat_minor": 5
}
